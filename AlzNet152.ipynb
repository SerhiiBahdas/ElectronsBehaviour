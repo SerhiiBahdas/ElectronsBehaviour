{
  "nbformat": 4,
  "nbformat_minor": 0,
  "metadata": {
    "colab": {
      "name": "AlzNet152.ipynb",
      "version": "0.3.2",
      "provenance": [],
      "collapsed_sections": [],
      "include_colab_link": true
    },
    "kernelspec": {
      "name": "python3",
      "display_name": "Python 3"
    },
    "accelerator": "GPU"
  },
  "cells": [
    {
      "cell_type": "markdown",
      "metadata": {
        "id": "view-in-github",
        "colab_type": "text"
      },
      "source": [
        "<a href=\"https://colab.research.google.com/github/SerhiiBahdas/ElectronsBehaviour/blob/master/AlzNet152.ipynb\" target=\"_parent\"><img src=\"https://colab.research.google.com/assets/colab-badge.svg\" alt=\"Open In Colab\"/></a>"
      ]
    },
    {
      "cell_type": "code",
      "metadata": {
        "id": "jK-TB4MC3Cyu",
        "colab_type": "code",
        "outputId": "5c028097-f28e-400c-8d00-8416a4c99afb",
        "colab": {
          "base_uri": "https://localhost:8080/",
          "height": 36
        }
      },
      "source": [
        "import h5py\n",
        "import keras\n",
        "import numpy as np\n",
        "import tensorflow as tf\n",
        "import matplotlib.pyplot as plt"
      ],
      "execution_count": 1,
      "outputs": [
        {
          "output_type": "stream",
          "text": [
            "Using TensorFlow backend.\n"
          ],
          "name": "stderr"
        }
      ]
    },
    {
      "cell_type": "code",
      "metadata": {
        "id": "_feIBn7k3HjP",
        "colab_type": "code",
        "outputId": "92089d99-e3ec-4ac7-cf70-f011748e60fb",
        "colab": {
          "base_uri": "https://localhost:8080/",
          "height": 131
        }
      },
      "source": [
        "from google.colab import drive\n",
        "drive.mount('/content/gdrive')"
      ],
      "execution_count": 2,
      "outputs": [
        {
          "output_type": "stream",
          "text": [
            "Go to this URL in a browser: https://accounts.google.com/o/oauth2/auth?client_id=947318989803-6bn6qk8qdgf4n4g3pfee6491hc0brc4i.apps.googleusercontent.com&redirect_uri=urn%3Aietf%3Awg%3Aoauth%3A2.0%3Aoob&scope=email%20https%3A%2F%2Fwww.googleapis.com%2Fauth%2Fdocs.test%20https%3A%2F%2Fwww.googleapis.com%2Fauth%2Fdrive%20https%3A%2F%2Fwww.googleapis.com%2Fauth%2Fdrive.photos.readonly%20https%3A%2F%2Fwww.googleapis.com%2Fauth%2Fpeopleapi.readonly&response_type=code\n",
            "\n",
            "Enter your authorization code:\n",
            "··········\n",
            "Mounted at /content/gdrive\n"
          ],
          "name": "stdout"
        }
      ]
    },
    {
      "cell_type": "code",
      "metadata": {
        "id": "GaKHIh9f3Jtp",
        "colab_type": "code",
        "colab": {}
      },
      "source": [
        "# Open file with data in reading mode\n",
        "from google.colab import drive\n",
        "data = h5py.File('/content/gdrive/My Drive/diploma/dataset_stripped_88.h5', 'r')"
      ],
      "execution_count": 0,
      "outputs": []
    },
    {
      "cell_type": "code",
      "metadata": {
        "id": "26X_Fcn73QX9",
        "colab_type": "code",
        "outputId": "7f5ab702-1a85-4845-9b9e-0f27fe62a3d1",
        "colab": {
          "base_uri": "https://localhost:8080/",
          "height": 36
        }
      },
      "source": [
        "# List all groups\n",
        "print(\"Keys: %s\" % data.keys())\n",
        "\n",
        "key_for_features = list(data.keys())[0]\n",
        "key_for_labels = list(data.keys())[1]\n",
        "\n",
        "# Get the data\n",
        "data_x = np.array(data[key_for_features])\n",
        "data_labels = np.array(data[key_for_labels])"
      ],
      "execution_count": 4,
      "outputs": [
        {
          "output_type": "stream",
          "text": [
            "Keys: KeysView(<HDF5 file \"dataset_stripped_88.h5\" (mode r)>)\n"
          ],
          "name": "stdout"
        }
      ]
    },
    {
      "cell_type": "code",
      "metadata": {
        "id": "kAKd2KqV3Wel",
        "colab_type": "code",
        "outputId": "3b90f2e1-de3c-4101-dfe2-480ef7eb3e59",
        "colab": {
          "base_uri": "https://localhost:8080/",
          "height": 55
        }
      },
      "source": [
        "#let's find out data shape\n",
        "print('Features shape: ', data_x.shape)\n",
        "print('Labels shape: ', data_labels.shape)"
      ],
      "execution_count": 5,
      "outputs": [
        {
          "output_type": "stream",
          "text": [
            "Features shape:  (673, 89, 88, 88, 1)\n",
            "Labels shape:  (673, 3)\n"
          ],
          "name": "stdout"
        }
      ]
    },
    {
      "cell_type": "code",
      "metadata": {
        "id": "2JHNW3CH3YD2",
        "colab_type": "code",
        "outputId": "68f318de-ce7e-43f6-e850-d179afefb283",
        "colab": {
          "base_uri": "https://localhost:8080/",
          "height": 197
        }
      },
      "source": [
        "#let's visualize some data examples\n",
        "data_for_show1 = data_x.reshape(673,89,88,88)\n",
        "plt.figure(figsize = [8,8])\n",
        "plt.subplot(1,3,1)\n",
        "plt.imshow(data_for_show1[0,50,:,:], cmap = 'gray')\n",
        "plt.title('Вертикальний переріз')\n",
        "\n",
        "plt.subplot(1,3,2)\n",
        "plt.imshow(data_for_show1[0,:,50,:], cmap = 'gray')\n",
        "plt.title('Поздовжній переріз')\n",
        "\n",
        "plt.subplot(1,3,3)\n",
        "plt.imshow(data_for_show1[0,:,:,50], cmap = 'gray')\n",
        "plt.title('Горизонтальний переріз')\n",
        "plt.show()"
      ],
      "execution_count": 6,
      "outputs": [
        {
          "output_type": "display_data",
          "data": {
            "image/png": "[encoded data removed]",
            "text/plain": [
              "<Figure size 576x576 with 3 Axes>"
            ]
          },
          "metadata": {
            "tags": []
          }
        }
      ]
    },
    {
      "cell_type": "code",
      "metadata": {
        "id": "z_GPLEUC3ZmX",
        "colab_type": "code",
        "colab": {}
      },
      "source": [
        "#let's divide dataset on 3 2d images datasets - vertical_section, horizontal_section, transverse_seсtion \n",
        "vertical_section_x = list()\n",
        "vertical_section_y = list()\n",
        "\n",
        "horizontal_section_x = list()\n",
        "horizontal_section_y = list()\n",
        "\n",
        "transverse_section_x = list()\n",
        "transverse_section_y = list()\n",
        "\n",
        "for i in range(673):\n",
        "    for j in range(35,65):\n",
        "    #j = 40\n",
        "    #We take all samples from 0 to 88 to make all the images the same size.\n",
        "        vertical_section_x.append(data_x[i,j,0:88,0:88])\n",
        "        vertical_section_y.append(data_labels[i,:])\n",
        "        \n",
        "        horizontal_section_x.append(data_x[i,0:88,j,0:88])\n",
        "        horizontal_section_y.append(data_labels[i,:])\n",
        "        \n",
        "        transverse_section_x.append(data_x[i,0:88,0:88,j])\n",
        "        transverse_section_y.append(data_labels[i,:])\n",
        "\n",
        "#from sklearn.utils import shuffle\n",
        "\n",
        "vertical_section_x = np.array(vertical_section_x)\n",
        "vertical_section_y = np.array(vertical_section_y)\n",
        "#vertical_section_x,vertical_section_y = shuffle(vertical_section_x, vertical_section_y)\n",
        "\n",
        "horizontal_section_x = np.array(horizontal_section_x)\n",
        "horizontal_section_y = np.array(horizontal_section_y)\n",
        "#horizontal_section_x,horizontal_section_y = shuffle(horizontal_section_x,horizontal_section_y)\n",
        "\n",
        "transverse_section_x = np.array(transverse_section_x)\n",
        "transverse_section_y = np.array(transverse_section_y)\n",
        "#transverse_section_x,transverse_section_y = shuffle(transverse_section_x,transverse_section_y)"
      ],
      "execution_count": 0,
      "outputs": []
    },
    {
      "cell_type": "code",
      "metadata": {
        "id": "4kswgRWD3bRX",
        "colab_type": "code",
        "colab": {}
      },
      "source": [
        "#just to make 2D dataset\n",
        "data2D_x = (vertical_section_x + horizontal_section_x + transverse_section_x)\n",
        "data2D_labels = (vertical_section_y + horizontal_section_y + transverse_section_y)"
      ],
      "execution_count": 0,
      "outputs": []
    },
    {
      "cell_type": "code",
      "metadata": {
        "id": "IdUtNg1Z3dBw",
        "colab_type": "code",
        "outputId": "dcbd73f3-dff5-4156-e298-9594d138b201",
        "colab": {
          "base_uri": "https://localhost:8080/",
          "height": 55
        }
      },
      "source": [
        "#let's find out data shape\n",
        "print('Features shape: ', data2D_x.shape)\n",
        "print('Labels shape: ', data2D_labels.shape)"
      ],
      "execution_count": 9,
      "outputs": [
        {
          "output_type": "stream",
          "text": [
            "Features shape:  (20190, 88, 88, 1)\n",
            "Labels shape:  (20190, 3)\n"
          ],
          "name": "stdout"
        }
      ]
    },
    {
      "cell_type": "code",
      "metadata": {
        "id": "sRunV62G3eoe",
        "colab_type": "code",
        "outputId": "dad503ee-788e-4dfb-9124-c5ce5eed64c5",
        "colab": {
          "base_uri": "https://localhost:8080/",
          "height": 74
        }
      },
      "source": [
        "#let's now split the data into training, test and validation sets\n",
        "from sklearn.model_selection import train_test_split\n",
        "train_x, test_x, train_labels, test_labels = train_test_split(data2D_x, data2D_labels, test_size=0.25, shuffle= True)\n",
        "train_x, valid_x, train_labels, valid_labels = train_test_split(train_x, train_labels, test_size=0.25, shuffle= True)\n",
        "\n",
        "print(train_x.shape, train_labels.shape)\n",
        "print(test_x.shape, test_labels.shape)\n",
        "print(valid_x.shape, valid_labels.shape)"
      ],
      "execution_count": 10,
      "outputs": [
        {
          "output_type": "stream",
          "text": [
            "(11356, 88, 88, 1) (11356, 3)\n",
            "(5048, 88, 88, 1) (5048, 3)\n",
            "(3786, 88, 88, 1) (3786, 3)\n"
          ],
          "name": "stdout"
        }
      ]
    },
    {
      "cell_type": "code",
      "metadata": {
        "id": "drdmoj973f9Q",
        "colab_type": "code",
        "colab": {}
      },
      "source": [
        "#data preprocessing\n",
        "#train_x = train_x.astype('float32')\n",
        "#test_x = test_x.astype('float32')\n",
        "#valid_x = valid_x.astype('float32')\n",
        "\n",
        "#train_x = train_x/255\n",
        "#test_x = test_x/255\n",
        "#valid_x = valid_x/255"
      ],
      "execution_count": 0,
      "outputs": []
    },
    {
      "cell_type": "markdown",
      "metadata": {
        "id": "Densu91L8EVz",
        "colab_type": "text"
      },
      "source": [
        "**The identity block is the standard block used in ResNets, and corresponds to the case where the input activation (say $a^{[l]}$) has the same dimension as the output activation (say $a^{[l+2]}$). To flesh out the different steps of what happens in a ResNet's identity block, here is an alternative diagram showing the individual steps (here is an illustration):** https://www.google.com/search?client=firefox-b-d&biw=1287&bih=802&tbm=isch&sa=1&ei=VOznXKXtEY2gjgb2qJC4Bg&q=identity+block+cnn&oq=identity+block+cnn&gs_l=img.3...2956.4236..4475...0.0..0.155.462.1j3......0....1..gws-wiz-img.......0i19.x0aij8zxNSg#imgrc=YsFhy8-uwGENxM:"
      ]
    },
    {
      "cell_type": "code",
      "metadata": {
        "id": "TJV9swkT3h1U",
        "colab_type": "code",
        "colab": {}
      },
      "source": [
        "def identity_block(X, f, filters, stage, block):\n",
        "    \"\"\"\n",
        "    Arguments:\n",
        "    X -- input tensor of shape (m, n_H_prev, n_W_prev, n_C_prev)\n",
        "    f -- integer, specifying the shape of the middle CONV's window for the main path\n",
        "    filters -- python list of integers, defining the number of filters in the CONV layers of the main path\n",
        "    stage -- integer, used to name the layers, depending on their position in the network\n",
        "    block -- string/character, used to name the layers, depending on their position in the network\n",
        "    \n",
        "    Returns:\n",
        "    X -- output of the identity block, tensor of shape (n_H, n_W, n_C)\n",
        "    \"\"\"\n",
        "    \n",
        "    # defining name basis\n",
        "    conv_name_base = 'res' + str(stage) + block + '_branch'\n",
        "    bn_name_base = 'bn' + str(stage) + block + '_branch'\n",
        "    \n",
        "    # Retrieve Filters\n",
        "    F1, F2, F3 = filters\n",
        "    \n",
        "    # Save the input value. You'll need this later to add back to the main path. \n",
        "    X_shortcut = X\n",
        "    \n",
        "    # First component of main path\n",
        "    X = keras.layers.Conv2D(filters = F1, kernel_size = (1, 1), strides = (1,1), padding = 'valid', name = conv_name_base + '2a', kernel_initializer =  keras.initializers.glorot_uniform())(X)\n",
        "    X = keras.layers.BatchNormalization(axis = 3, name = bn_name_base + '2a')(X)\n",
        "    X = keras.layers.Activation('relu')(X)\n",
        "    \n",
        "    # Second component of main path (≈3 lines)\n",
        "    X = keras.layers.Conv2D(filters = F2, kernel_size = (f,f), strides = (1,1), padding = 'same', name = conv_name_base + '2b', kernel_initializer =  keras.initializers.glorot_uniform())(X)\n",
        "    X = keras.layers.BatchNormalization(axis = 3, name = bn_name_base + '2b')(X)\n",
        "    X = keras.layers.Activation('relu')(X)\n",
        "\n",
        "    # Third component of main path (≈2 lines)\n",
        "    X = keras.layers.Conv2D(filters = F3, kernel_size = (1,1), strides = (1,1), padding = 'valid', name = conv_name_base + '2c', kernel_initializer =  keras.initializers.glorot_uniform())(X)\n",
        "    X = keras.layers.BatchNormalization(axis = 3, name = bn_name_base + '2c')(X)\n",
        "\n",
        "    # Final step: Add shortcut value to main path, and pass it through a RELU activation (≈2 lines)\n",
        "    X = keras.layers.Add()([X, X_shortcut])\n",
        "    X = keras.layers.Activation('relu')(X)\n",
        "    \n",
        "    return X"
      ],
      "execution_count": 0,
      "outputs": []
    },
    {
      "cell_type": "markdown",
      "metadata": {
        "id": "nUhcn4uW_aoX",
        "colab_type": "text"
      },
      "source": [
        "**The ResNet \"convolutional block\" is the other type of block. We can use this type of block when the input and output dimensions don't match up. The difference with the identity block is that there is a CONV2D layer in the shortcut path (here is an illustration)**: https://www.google.com/search?client=firefox-b-d&biw=1287&bih=802&tbm=isch&sa=1&ei=a-znXLfWNJCqrgSP77H4Dw&q=convolutional+block+cnn+coursera&oq=convolutional+block+cnn+coursera&gs_l=img.3...125161.128927..129169...1.0..0.126.1472.5j9......0....1..gws-wiz-img.LxFy8b6NzvQ#imgrc=Z8VKiqeg3r9VUM:"
      ]
    },
    {
      "cell_type": "code",
      "metadata": {
        "id": "Ls4j1_GU3xDP",
        "colab_type": "code",
        "colab": {}
      },
      "source": [
        "def convolutional_block(X, f, filters, stage, block, s = 2):\n",
        "    \"\"\"\n",
        "    Implementation of the convolutional block as defined in Figure 4\n",
        "    \n",
        "    Arguments:\n",
        "    X -- input tensor of shape (m, n_H_prev, n_W_prev, n_C_prev)\n",
        "    f -- integer, specifying the shape of the middle CONV's window for the main path\n",
        "    filters -- python list of integers, defining the number of filters in the CONV layers of the main path\n",
        "    stage -- integer, used to name the layers, depending on their position in the network\n",
        "    block -- string/character, used to name the layers, depending on their position in the network\n",
        "    s -- Integer, specifying the stride to be used\n",
        "    \n",
        "    Returns:\n",
        "    X -- output of the convolutional block, tensor of shape (n_H, n_W, n_C)\n",
        "    \"\"\"\n",
        "    \n",
        "    # defining name basis\n",
        "    conv_name_base = 'res' + str(stage) + block + '_branch'\n",
        "    bn_name_base = 'bn' + str(stage) + block + '_branch'\n",
        "    \n",
        "    # Retrieve Filters\n",
        "    F1, F2, F3 = filters\n",
        "    \n",
        "    # Save the input value\n",
        "    X_shortcut = X\n",
        "\n",
        "\n",
        "    ##### MAIN PATH #####\n",
        "    # First component of main path \n",
        "    X = keras.layers.Conv2D(F1, (1, 1), strides = (s,s),  padding = 'valid', name = conv_name_base + '2a',  kernel_initializer = keras.initializers.glorot_uniform())(X)\n",
        "    X = keras.layers.BatchNormalization(axis = 3, name = bn_name_base + '2a')(X)\n",
        "    X = keras.layers.Activation('relu')(X)\n",
        "\n",
        "    # Second component of main path (≈3 lines)\n",
        "    X = keras.layers.Conv2D(F2, (f, f), strides = (1,1), padding = 'same',  name = conv_name_base + '2b',  kernel_initializer = keras.initializers.glorot_uniform())(X)\n",
        "    X = keras.layers.BatchNormalization(axis = 3, name = bn_name_base + '2b')(X)\n",
        "    X = keras.layers.Activation('relu')(X)\n",
        "\n",
        "    # Third component of main path (≈2 lines)\n",
        "    X = keras.layers.Conv2D(F3, (1, 1), strides = (1,1), padding = 'valid', name = conv_name_base + '2c', kernel_initializer = keras.initializers.glorot_uniform())(X)\n",
        "    X = keras.layers.BatchNormalization(axis = 3, name = bn_name_base + '2c')(X)\n",
        "\n",
        "    ##### SHORTCUT PATH #### (≈2 lines)\n",
        "    X_shortcut = keras.layers.Conv2D(F3, (1, 1), strides = (s,s), name = conv_name_base + '1', kernel_initializer = keras.initializers.glorot_uniform())(X_shortcut)\n",
        "    X_shortcut = keras.layers.BatchNormalization(axis = 3, name = bn_name_base + '1')(X_shortcut)\n",
        "\n",
        "    # Final step: Add shortcut value to main path, and pass it through a RELU activation (≈2 lines)\n",
        "    X = keras.layers.Add()([X, X_shortcut])\n",
        "    X = keras.layers.Activation('relu')(X)\n",
        "    \n",
        "    return X"
      ],
      "execution_count": 0,
      "outputs": []
    },
    {
      "cell_type": "markdown",
      "metadata": {
        "id": "xEBez3GbAiDM",
        "colab_type": "text"
      },
      "source": [
        "**How did I build the following? Here is the tip**: https://www.google.com/search?q=res+net&client=firefox-b-d&source=lnms&tbm=isch&sa=X&ved=0ahUKEwj8oZiPobTiAhXhlYsKHWviC2AQ_AUIDigB&biw=1287&bih=802#imgrc=eLRQQc-BgrBkxM:"
      ]
    },
    {
      "cell_type": "code",
      "metadata": {
        "id": "Nbz0hUNf3yuR",
        "colab_type": "code",
        "colab": {}
      },
      "source": [
        "def ResNet152(input_shape = (64, 64, 3), classes = 6):\n",
        "    \"\"\"\n",
        "    Arguments:\n",
        "    input_shape -- shape of the images of the dataset\n",
        "    classes -- integer, number of classes\n",
        "\n",
        "    Returns:\n",
        "    model -- a Model() instance in Keras\n",
        "    \"\"\"\n",
        "    \n",
        "    # Define the input as a tensor with shape input_shape\n",
        "    X_input = keras.layers.Input(input_shape)\n",
        "\n",
        "    \n",
        "    # Zero-Padding\n",
        "    X = keras.layers.ZeroPadding2D((3, 3))(X_input)\n",
        "    \n",
        "    # Stage 1\n",
        "    X = keras.layers.Conv2D(64, (7, 7), strides = (2, 2), name = 'conv1', kernel_initializer = keras.initializers.glorot_uniform())(X)\n",
        "    X = keras.layers.BatchNormalization(axis = 3, name = 'bn_conv1')(X)\n",
        "    X = keras.layers.Activation('relu')(X)\n",
        "    X = keras.layers.MaxPooling2D((3, 3), strides=(2, 2))(X)\n",
        "\n",
        "    # Stage 2\n",
        "    X = convolutional_block(X, f = 3, filters = [64, 64, 256], stage = 2, block='a', s = 1)\n",
        "    X = identity_block(X, 3, [64, 64, 256], stage=2, block='b')\n",
        "    X = identity_block(X, 3, [64, 64, 256], stage=2, block='c')\n",
        "\n",
        "    # Stage 3 \n",
        "    X = convolutional_block(X, f = 3, filters = [128,128,512], stage = 3, block='a', s = 2)\n",
        "    X = identity_block(X, 3, [128,128,512], stage=3, block='b')\n",
        "    X = identity_block(X, 3, [128,128,512], stage=3, block='c')\n",
        "    X = identity_block(X, 3, [128,128,512], stage=3, block='d')\n",
        "    X = identity_block(X, 3, [128,128,512], stage=3, block='e')\n",
        "    X = identity_block(X, 3, [128,128,512], stage=3, block='f')\n",
        "    X = identity_block(X, 3, [128,128,512], stage=3, block='g')\n",
        "    X = identity_block(X, 3, [128,128,512], stage=3, block='h')\n",
        "\n",
        "    # Stage 4 \n",
        "    X = convolutional_block(X, f = 3, filters = [256, 256, 1024], stage = 4, block='a', s = 2)\n",
        "    X = identity_block(X, 3, [256, 256, 1024], stage=4, block='b')\n",
        "    X = identity_block(X, 3, [256, 256, 1024], stage=4, block='c')\n",
        "    X = identity_block(X, 3, [256, 256, 1024], stage=4, block='d')\n",
        "    X = identity_block(X, 3, [256, 256, 1024], stage=4, block='e')\n",
        "    X = identity_block(X, 3, [256, 256, 1024], stage=4, block='f')\n",
        "    X = identity_block(X, 3, [256, 256, 1024], stage=4, block='g')\n",
        "    X = identity_block(X, 3, [256, 256, 1024], stage=4, block='h')\n",
        "    X = identity_block(X, 3, [256, 256, 1024], stage=4, block='i')\n",
        "    X = identity_block(X, 3, [256, 256, 1024], stage=4, block='j')\n",
        "    X = identity_block(X, 3, [256, 256, 1024], stage=4, block='k')\n",
        "    X = identity_block(X, 3, [256, 256, 1024], stage=4, block='l')\n",
        "    X = identity_block(X, 3, [256, 256, 1024], stage=4, block='m')\n",
        "    X = identity_block(X, 3, [256, 256, 1024], stage=4, block='n')\n",
        "    X = identity_block(X, 3, [256, 256, 1024], stage=4, block='o')\n",
        "    X = identity_block(X, 3, [256, 256, 1024], stage=4, block='p')\n",
        "    X = identity_block(X, 3, [256, 256, 1024], stage=4, block='q')\n",
        "    X = identity_block(X, 3, [256, 256, 1024], stage=4, block='r')\n",
        "    X = identity_block(X, 3, [256, 256, 1024], stage=4, block='s')\n",
        "    X = identity_block(X, 3, [256, 256, 1024], stage=4, block='t')\n",
        "    X = identity_block(X, 3, [256, 256, 1024], stage=4, block='u')\n",
        "    X = identity_block(X, 3, [256, 256, 1024], stage=4, block='v')\n",
        "    X = identity_block(X, 3, [256, 256, 1024], stage=4, block='w')\n",
        "    X = identity_block(X, 3, [256, 256, 1024], stage=4, block='x')\n",
        "    X = identity_block(X, 3, [256, 256, 1024], stage=4, block='y')\n",
        "    X = identity_block(X, 3, [256, 256, 1024], stage=4, block='z')\n",
        "    X = identity_block(X, 3, [256, 256, 1024], stage=4, block='aa')\n",
        "    X = identity_block(X, 3, [256, 256, 1024], stage=4, block='ab')\n",
        "    X = identity_block(X, 3, [256, 256, 1024], stage=4, block='ac')\n",
        "    X = identity_block(X, 3, [256, 256, 1024], stage=4, block='ad')\n",
        "    X = identity_block(X, 3, [256, 256, 1024], stage=4, block='ae')\n",
        "    X = identity_block(X, 3, [256, 256, 1024], stage=4, block='af')\n",
        "    X = identity_block(X, 3, [256, 256, 1024], stage=4, block='ag')\n",
        "    X = identity_block(X, 3, [256, 256, 1024], stage=4, block='ah')\n",
        "    X = identity_block(X, 3, [256, 256, 1024], stage=4, block='ai')\n",
        "    X = identity_block(X, 3, [256, 256, 1024], stage=4, block='aj')\n",
        "\n",
        "    # Stage 5 \n",
        "    X = convolutional_block(X, f = 3, filters = [512, 512, 2048], stage = 5, block='a', s = 2)\n",
        "    X = identity_block(X, 3, [512, 512, 2048], stage=5, block='b')\n",
        "    X = identity_block(X, 3, [512, 512, 2048], stage=5, block='c')\n",
        "\n",
        "    # AVGPOOL \n",
        "    X = keras.layers.AveragePooling2D()(X)\n",
        "\n",
        "    # output layer\n",
        "    X = keras.layers.Flatten()(X)\n",
        "    #X = keras.layers.Dropout(0.4)(X)\n",
        "    X = keras.layers.Dense(classes, activation='softmax', name='fc' + str(classes), kernel_initializer = keras.initializers.glorot_uniform())(X)\n",
        "    \n",
        "    \n",
        "    # Create model\n",
        "    model = keras.models.Model(inputs = X_input, outputs = X, name='ResNet152')\n",
        "\n",
        "    return model"
      ],
      "execution_count": 0,
      "outputs": []
    },
    {
      "cell_type": "code",
      "metadata": {
        "id": "u9xWhFWG-t0A",
        "colab_type": "code",
        "colab": {}
      },
      "source": [
        "#building the model's graph\n",
        "AlzNet = ResNet152(input_shape = (88, 88, 1), classes = 3)"
      ],
      "execution_count": 0,
      "outputs": []
    },
    {
      "cell_type": "code",
      "metadata": {
        "id": "B44Z5R2x-zzr",
        "colab_type": "code",
        "colab": {}
      },
      "source": [
        "# let's configure the learning process by compiling the model.\n",
        "AlzNet.compile(optimizer='adam', loss='categorical_crossentropy', metrics=['accuracy'])"
      ],
      "execution_count": 0,
      "outputs": []
    },
    {
      "cell_type": "code",
      "metadata": {
        "id": "2wDo3YSsqgbT",
        "colab_type": "code",
        "colab": {}
      },
      "source": [
        ""
      ],
      "execution_count": 0,
      "outputs": []
    },
    {
      "cell_type": "code",
      "metadata": {
        "id": "aiUbFznN_akU",
        "colab_type": "code",
        "outputId": "a30f39a3-d3ad-4e55-ebf7-f8fdb18f4e4e",
        "colab": {
          "base_uri": "https://localhost:8080/",
          "height": 490
        }
      },
      "source": [
        "#model parameters specification\n",
        "batch_size = 50\n",
        "epochs = 10\n",
        "\n",
        "result = AlzNet.fit(train_x, train_labels,batch_size = batch_size, epochs=epochs, verbose=1, validation_data = (valid_x,valid_labels))"
      ],
      "execution_count": 17,
      "outputs": [
        {
          "output_type": "stream",
          "text": [
            "WARNING:tensorflow:From /usr/local/lib/python3.6/dist-packages/tensorflow/python/ops/math_ops.py:3066: to_int32 (from tensorflow.python.ops.math_ops) is deprecated and will be removed in a future version.\n",
            "Instructions for updating:\n",
            "Use tf.cast instead.\n",
            "Train on 11356 samples, validate on 3786 samples\n",
            "Epoch 1/10\n",
            "11356/11356 [==============================] - 135s 12ms/step - loss: 4.4182 - acc: 0.4585 - val_loss: 36.8979 - val_acc: 0.2369\n",
            "Epoch 2/10\n",
            "11356/11356 [==============================] - 94s 8ms/step - loss: 3.6394 - acc: 0.4780 - val_loss: 4.3503 - val_acc: 0.4733\n",
            "Epoch 3/10\n",
            "11356/11356 [==============================] - 94s 8ms/step - loss: 3.0766 - acc: 0.4809 - val_loss: 3.3968 - val_acc: 0.4773\n",
            "Epoch 4/10\n",
            "11356/11356 [==============================] - 94s 8ms/step - loss: 2.9579 - acc: 0.5014 - val_loss: 2.8593 - val_acc: 0.5116\n",
            "Epoch 5/10\n",
            "11356/11356 [==============================] - 94s 8ms/step - loss: 2.7370 - acc: 0.5403 - val_loss: 3.0693 - val_acc: 0.4583\n",
            "Epoch 6/10\n",
            "11356/11356 [==============================] - 94s 8ms/step - loss: 2.5246 - acc: 0.5789 - val_loss: 2.8584 - val_acc: 0.5549\n",
            "Epoch 7/10\n",
            "11356/11356 [==============================] - 94s 8ms/step - loss: 2.3389 - acc: 0.6079 - val_loss: 2.6028 - val_acc: 0.5798\n",
            "Epoch 8/10\n",
            "11356/11356 [==============================] - 94s 8ms/step - loss: 2.1931 - acc: 0.6327 - val_loss: 2.9748 - val_acc: 0.4989\n",
            "Epoch 9/10\n",
            "11356/11356 [==============================] - 94s 8ms/step - loss: 2.0631 - acc: 0.6537 - val_loss: 2.7481 - val_acc: 0.4847\n",
            "Epoch 10/10\n",
            "11356/11356 [==============================] - 94s 8ms/step - loss: 1.9430 - acc: 0.6722 - val_loss: 3.4250 - val_acc: 0.4643\n"
          ],
          "name": "stdout"
        }
      ]
    },
    {
      "cell_type": "code",
      "metadata": {
        "id": "54i1mX9h_g47",
        "colab_type": "code",
        "colab": {}
      },
      "source": [
        "test_eval = AlzNet.evaluate(test_x,test_labels, verbose = 0)"
      ],
      "execution_count": 0,
      "outputs": []
    },
    {
      "cell_type": "code",
      "metadata": {
        "id": "_nYZjH8-xejV",
        "colab_type": "code",
        "colab": {
          "base_uri": "https://localhost:8080/",
          "height": 55
        },
        "outputId": "e319bee9-af2a-4cb0-be67-873d4745d6f1"
      },
      "source": [
        "print('Test loss:', test_eval[0])\n",
        "print('Test acuracy:', test_eval[1])"
      ],
      "execution_count": 19,
      "outputs": [
        {
          "output_type": "stream",
          "text": [
            "Test loss: 3.3891023112174636\n",
            "Test acuracy: 0.47543581621204806\n"
          ],
          "name": "stdout"
        }
      ]
    },
    {
      "cell_type": "code",
      "metadata": {
        "id": "geUSJVGaxjGa",
        "colab_type": "code",
        "colab": {
          "base_uri": "https://localhost:8080/",
          "height": 545
        },
        "outputId": "87cc33ba-0e84-4bf0-a262-469fbe8ecd5d"
      },
      "source": [
        "accuracy = result.history['acc']\n",
        "val_accuracy = result.history['val_acc']\n",
        "loss = result.history['loss']\n",
        "val_loss = result.history['val_loss']\n",
        "epochs = range(len(accuracy))\n",
        "plt.plot(epochs,accuracy,'bo', label = 'Training accuracy')\n",
        "plt.plot(epochs, val_accuracy, 'b', label = 'Validation accuracy')\n",
        "plt.title('Training and validation accuracy')\n",
        "plt.legend()\n",
        "plt.figure()\n",
        "plt.plot(epochs,loss,'bo',label = 'Training loss')\n",
        "plt.plot(epochs, val_loss,'b', label = 'Validation loss')\n",
        "plt.title('Training and validation loss')\n",
        "plt.legend()\n",
        "plt.show()"
      ],
      "execution_count": 20,
      "outputs": [
        {
          "output_type": "display_data",
          "data": {
            "image/png": "[encoded data removed]",
            "text/plain": [
              "<Figure size 432x288 with 1 Axes>"
            ]
          },
          "metadata": {
            "tags": []
          }
        },
        {
          "output_type": "display_data",
          "data": {
            "image/png": "[encoded data removed]",
            "text/plain": [
              "<Figure size 432x288 with 1 Axes>"
            ]
          },
          "metadata": {
            "tags": []
          }
        }
      ]
    },
    {
      "cell_type": "code",
      "metadata": {
        "id": "7wYoO0IlYrqj",
        "colab_type": "code",
        "colab": {}
      },
      "source": [
        ""
      ],
      "execution_count": 0,
      "outputs": []
    }
  ]
}